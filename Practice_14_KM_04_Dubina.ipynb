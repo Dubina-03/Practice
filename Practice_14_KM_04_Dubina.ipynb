{
  "nbformat": 4,
  "nbformat_minor": 0,
  "metadata": {
    "colab": {
      "name": "Practice_14_KM_01.ipynb",
      "provenance": [],
      "collapsed_sections": []
    },
    "kernelspec": {
      "name": "python3",
      "display_name": "Python 3.8.6 64-bit",
      "metadata": {
        "interpreter": {
          "hash": "04085e22bdeff8e3df61471aa05418e51f2f0978d6e9005e6dc5b37d6e89c6df"
        }
      }
    }
  },
  "cells": [
    {
      "cell_type": "markdown",
      "metadata": {
        "id": "FMqboNwO4rVs"
      },
      "source": [
        "# **Курс \"Програмування на мові Python\"**\n",
        "\n",
        "##### Викладачі:\n",
        "##### Борисенко Павло Борисович\n",
        "##### Щьоголєв Максим Олегович\n"
      ]
    },
    {
      "cell_type": "markdown",
      "metadata": {
        "id": "A2T6MigL5Z06"
      },
      "source": [
        "## **Практичне зайняття №14**\n",
        "\n",
        "### Тема: \"Робота з файлами\""
      ]
    },
    {
      "cell_type": "markdown",
      "metadata": {
        "id": "cfCdgK2zXm7e"
      },
      "source": [
        "### **Завдання 1 (1,5 бали)**\n",
        "\n",
        "У 1939 році друком вийшов роман американського письменика Ернеста Вінсента Райта \"Ґедсбі\". Особливу увагу публіки він здобув через те, що письменник жодного разу не використав у романі літеру \"e\" (роман складається з більше ніж 50,000 слів), яка є найбільш вживаною літерою в англійській мові.\n",
        "\n",
        "Порахуйте кількість входжень кожної літери у текст роману. Виведіть список літер англійського алфавіту, а також інформацію про те, скільки відсотків від усіх літер тексту складає кожна літера алфавіту.\n",
        "\n",
        "Зауваження:\n",
        "\n",
        "1. Програма має ігнорувати будь-які символи, окрім літер.\n",
        "\n",
        "2. Переведіть усі літери у верхній або у нижній регістр.\n",
        "\n",
        "3. Під час виведення відсортуйте літери у порядку зменшення їхнього відсотка. Літера \"e\" має стояти на останньому місці у цьому списку.\n",
        "\n",
        "4. Виведіть перші 5 та останні 5 літер відсортованого списку разом з відсотковими значеннями, що їм відповідають."
      ]
    },
    {
      "cell_type": "code",
      "metadata": {
        "tags": [],
        "id": "u4-fHJJ6U462"
      },
      "source": [
        "import string\n",
        "\n",
        "file = open('gadsby.txt', 'r')\n",
        "lines = file.readlines()\n",
        "file.close()\n",
        "\n",
        "d = dict()\n",
        "for letter in string.ascii_lowercase:\n",
        "    d[letter] = 0\n",
        "for line in lines:\n",
        "    for letter in string.ascii_lowercase:\n",
        "        count = line.lower().count(letter)\n",
        "        d[letter] = d[letter] + count\n",
        "all_let = sum(d.values())\n",
        "\n",
        "for letter in string.ascii_lowercase:\n",
        "    d[letter] = round(((d[letter] * 100) / all_let), 2)\n",
        "\n",
        "d = {k: v for k, v in sorted(d.items(), key = lambda item: item[1], reverse = True)}\n",
        "d = list(d.items())\n",
        "print('First 5 letter of the list')\n",
        "for index in range(5):\n",
        "    print('The letter is', '\"'+d[index][0]+'\"', 'and the percentage of this letter in the book is', d[index][1])\n",
        "print()\n",
        "print('Last 5 letter of the list')\n",
        "for index in range(1, 6):\n",
        "    print('The letter is', '\"'+d[-index][0]+'\"', 'and the percentage of this letter in the book is', d[-index][1])"
      ],
      "execution_count": 5,
      "outputs": [
        {
          "output_type": "stream",
          "name": "stdout",
          "text": [
            "First 5 letter of the list\nThe letter is \"a\" and the percentage of this letter in the book is 10.95\nThe letter is \"o\" and the percentage of this letter in the book is 10.42\nThe letter is \"i\" and the percentage of this letter in the book is 8.83\nThe letter is \"n\" and the percentage of this letter in the book is 8.6\nThe letter is \"t\" and the percentage of this letter in the book is 8.49\n\nLast 5 letter of the list\nThe letter is \"e\" and the percentage of this letter in the book is 0.0\nThe letter is \"q\" and the percentage of this letter in the book is 0.05\nThe letter is \"x\" and the percentage of this letter in the book is 0.08\nThe letter is \"z\" and the percentage of this letter in the book is 0.11\nThe letter is \"j\" and the percentage of this letter in the book is 0.23\n"
          ]
        }
      ]
    },
    {
      "cell_type": "markdown",
      "metadata": {
        "id": "A34oz70eU463"
      },
      "source": [
        "### **Завдання 2 (1,5 бали)**\n",
        "\n",
        "Створіть CSV-файл, що буде містити від 5 до 10 пісень (творів) вашого улюбленого музиканта. Назва файлу - ім'я музиканта (композитора) або назва гурту.\n",
        "\n",
        "1. Обов'язково додайте до файлу рядок з назвами двох колонок (Song, Year) або (Composition, Year).\n",
        "\n",
        "2. Після запису файлу роздрукуйте назву файлу та усі наявні у файлі рядки (включно із заголовками).\n",
        "\n",
        "3. Для запису та зчитування рядків скористайтесь функціями csv.DictWriter() та csv.DictReader()."
      ]
    },
    {
      "cell_type": "code",
      "metadata": {
        "id": "MEJIrG1GU463"
      },
      "source": [
        "import csv\n",
        "with open('Selena Gomez.csv', 'w', newline='') as csvfile:\n",
        "    fieldnames = ['Song', 'Year']\n",
        "    writer = csv.DictWriter(csvfile, fieldnames=fieldnames)\n",
        "    writer.writeheader()\n",
        "    writer.writerow({'Song': 'Same Old Love',\n",
        "                     'Year': 2015})\n",
        "    writer.writerow({'Song': 'Fetish',\n",
        "                     'Year': 2017})\n",
        "    writer.writerow({'Song': 'Past life',\n",
        "                     'Year': 2020})\n",
        "    writer.writerow({'Song': 'People you know',\n",
        "                     'Year': 2020})\n",
        "    writer.writerow({'Song': 'Love will remember',\n",
        "                     'Year': 2013})\n",
        "    writer.writerow({'Song': 'Boyfriend',\n",
        "                     'Year': 2020})\n",
        "\n",
        "with open('Selena Gomez.csv', newline='') as csvfile:\n",
        "    reader = csv.DictReader(csvfile)\n",
        "    print('Filename is', csvfile.name)\n",
        "    print('\\n------------------------------')\n",
        "    for row in reader:\n",
        "        print(reader.fieldnames[0], 'is', row['Song']+';', reader.fieldnames[1], 'is', row['Year'])"
      ],
      "execution_count": 4,
      "outputs": [
        {
          "output_type": "stream",
          "name": "stdout",
          "text": [
            "Filename is Selena Gomez.csv\n\n------------------------------\nSong is Same Old Love; Year is 2015\nSong is Fetish; Year is 2017\nSong is Past life; Year is 2020\nSong is People you know; Year is 2020\nSong is Love will remember; Year is 2013\nSong is Boyfriend; Year is 2020\n"
          ]
        }
      ]
    },
    {
      "cell_type": "markdown",
      "metadata": {
        "id": "Jb-eSBsWU464"
      },
      "source": [
        "### **Завдання 3 (бонусне, 1 бал)**\n",
        "\n",
        "COCO Dataset - набір фотографій та анотацій до них. Його дуже часто використовують для тренування класифікаторів, призначених для розпізнавання об'єктів та визначення ключових точок на зображеннях.\n",
        "\n",
        "Завантажте файли з описом фотографій COCO Dataset за посиланням: http://images.cocodataset.org/annotations/image_info_test2017.zip\n",
        "\n",
        "1. Відкрийте файл image_info_test-dev2017.json. Інформація про фотографії з бази COCO міститься у полі \"images\". Інформація про категорії, на які розділені всі фотографії, міститься у полі \"categories\".\n",
        "\n",
        "2. Визначте кількість фотографій, інформацію про які можна знайти у цьому файлі (кількість елементів, що відповідають ключу \"images\").\n",
        "\n",
        "3. Визначте кількість наявних категорій (кількість елементів, що відповідають ключу \"categories\").\n",
        "\n",
        "4. Виведіть посилання на фотографію 000000000001.jpg (\"coco_url\"), висоту цієї фотографії (\"height\"), ширину (\"width\") та її ідентифікатор (\"id\").\n",
        "\n",
        "5. Опис структури JSON-файлу для набору фотографій COCO можна знайти за посиланням: https://cocodataset.org/#format-data\n",
        "\n",
        "6. Щоб перевірити правильність результатів, у VS Code встановіть розширення JSON та відкрийте файл image_info_test-dev2017.json. Розширення автоматично визначає кількість елементів у кожному полі."
      ]
    },
    {
      "cell_type": "code",
      "metadata": {
        "id": "74C6WKB_U464",
        "tags": []
      },
      "source": [
        "import json\n",
        "\n",
        "with open('image_info_test-dev2017.json') as f:\n",
        "    data = json.load(f)\n",
        "\n",
        "categories = len(data[\"categories\"])\n",
        "images = len(data['images'])\n",
        "print(\"The count of images is\", images)\n",
        "print(\"The count of categories is\", categories)\n",
        "\n",
        "for dictionary in data['images']:\n",
        "    if dictionary['file_name'] == '000000000001.jpg':\n",
        "        print('Link is', dictionary['coco_url'])\n",
        "        print('Height is', dictionary[\"height\"])\n",
        "        print('Width is', dictionary[\"width\"])\n",
        "        print('ID is', dictionary[\"id\"])"
      ],
      "execution_count": 1,
      "outputs": [
        {
          "output_type": "stream",
          "name": "stdout",
          "text": [
            "The count of images is 20288\nThe count of categories is 80\nLink is http://images.cocodataset.org/test2017/000000000001.jpg\nHeight is 480\nWidth is 640\nID is 1\n"
          ]
        }
      ]
    },
    {
      "cell_type": "code",
      "execution_count": null,
      "metadata": {},
      "outputs": [],
      "source": []
    }
  ]
}