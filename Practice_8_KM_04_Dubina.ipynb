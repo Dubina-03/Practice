{
  "nbformat": 4,
  "nbformat_minor": 0,
  "metadata": {
    "colab": {
      "name": "Practice_7_KM-01_.ipynb",
      "provenance": [],
      "collapsed_sections": []
    },
    "kernelspec": {
      "name": "python3",
      "display_name": "Python 3.8.6 64-bit",
      "metadata": {
        "interpreter": {
          "hash": "04085e22bdeff8e3df61471aa05418e51f2f0978d6e9005e6dc5b37d6e89c6df"
        }
      }
    }
  },
  "cells": [
    {
      "cell_type": "markdown",
      "metadata": {
        "id": "FMqboNwO4rVs"
      },
      "source": [
        "# **Курс \"Програмування на мові Python\"**\n",
        "\n",
        "##### Викладачі:\n",
        "##### Борисенко Павло Борисович\n",
        "##### Щьоголєв Максим Олегович\n"
      ]
    },
    {
      "cell_type": "markdown",
      "metadata": {
        "id": "A2T6MigL5Z06"
      },
      "source": [
        "## **Практичне зайняття №8**\n",
        "\n",
        "### Тема: \"Робота з функціями. Локальні та глобальні змінні\""
      ]
    },
    {
      "cell_type": "markdown",
      "metadata": {
        "id": "cfCdgK2zXm7e"
      },
      "source": [
        "### **Завдання 1 (3 бали)**\n",
        "\n",
        "**Підрахувати визначник матриці, використовуючи правило перестановок.**\n",
        "\n",
        "Функція random_matrix() призначена для створення квадратної матриці випадкових чисел. Її змінювати непотрібно.\n",
        "\n",
        "Приклад використання методу permutations() для створення списку перестановок також подається у комірці з кодом.\n",
        "\n",
        "1) Створити 3 функції: функцію створення списку перестановок, функцію підрахунку добутків та функцію підрахунку загальної суми.\n",
        "\n",
        "2) Кожна функція має супроводжуватись рядком документації, що буде коротко описувати її призначення.\n",
        "\n",
        "3) Розмірність квадратної матриці має вводитись користувачем з клавіатури. Підрахунки виконувати лише в тому разі, якщо користувач введе ціле додатне число.\n",
        "\n",
        "4) Загальний результат повинен підраховуватись за допомогою композиції функцій.\n",
        "\n",
        "За бажання можна перевірити правильність роботи програми за допомогою функції np.linalg.det(a)."
      ]
    },
    {
      "cell_type": "code",
      "metadata": {
        "id": "ifNX2M7LXm7f",
        "tags": []
      },
      "source": [
        "import numpy as np\n",
        "import itertools\n",
        "\n",
        "def random_matrix(dim):\n",
        "    \"\"\"\n",
        "    The function generates dim x dim array of integers\n",
        "    between 0 and 10.\n",
        "    \"\"\"\n",
        "    matrix = np.random.randint(10, size = (dim, dim))\n",
        "    return matrix.tolist()\n",
        "\n",
        "def dim_value():\n",
        "    dim=input('Enter the size of matrix: ')\n",
        "    try:\n",
        "        x=int(dim)\n",
        "        if 0>=x:\n",
        "            print('This value is not appropriate.')\n",
        "            dim=dim_value()\n",
        "    except:\n",
        "        print('This value is not appropriate.')\n",
        "        dim=dim_value()\n",
        "    return int(dim)\n",
        "\n",
        "\n",
        "def list_permut(dim):\n",
        "    \"\"\"\n",
        "    The function create a list of permutations (in range (0 to dim-1))\n",
        "    \"\"\"\n",
        "    def list_mult(t, matrix):\n",
        "        \"\"\"\n",
        "        The function create a list which consists of numbers that are results of multiplication\n",
        "        \"\"\"\n",
        "        def sum_det(t, matrix, l_mult):\n",
        "            \"\"\"\n",
        "            The function determinates a sign of permutation and count total amount\n",
        "            \"\"\"\n",
        "            sum_d=0\n",
        "            for el in range(len(t)):\n",
        "                s=0\n",
        "                sign=1\n",
        "                for indt in range(len(t[el])):\n",
        "                    for y in range(1,len(t[el])):\n",
        "                        if y>indt:\n",
        "                            if t[el][indt]>t[el][y]:\n",
        "                                s+=1\n",
        "                if s%2==1:\n",
        "                    sign*=(-1)\n",
        "                l_mult[el]=sign*l_mult[el]\n",
        "            return sum(l_mult)\n",
        "\n",
        "\n",
        "        l_mult=[]\n",
        "        for els in t:\n",
        "            mult=1\n",
        "            for ind in range(len(els)): \n",
        "                mult*=matrix[ind][els[ind]]\n",
        "            l_mult.append(mult)\n",
        "        sum_deter=sum_det(t, matrix, l_mult)\n",
        "        print('The list which consists of numbers that are result of multiplication: ',l_mult)\n",
        "        return sum_deter\n",
        "\n",
        "\n",
        "    l=[]\n",
        "    for i in range(dim):\n",
        "        l.append(i)\n",
        "    t = list(itertools.permutations(l, dim))\n",
        "    print('The list of permutaions: ',t)\n",
        "    sum_det=list_mult(t, matrix)\n",
        "    return sum_det\n",
        "\n",
        "\n",
        "dim=dim_value()\n",
        "matrix=random_matrix(dim)\n",
        "print('Matrix: ', matrix)\n",
        "permut=list_permut(dim)\n",
        "print('Determinant: ', permut)\n",
        "print(np.linalg.det(matrix))"
      ],
      "execution_count": 132,
      "outputs": [
        {
          "output_type": "stream",
          "name": "stdout",
          "text": [
            "Matrix:  [[8, 9], [9, 1]]\nThe list of permutaions:  [(0, 1), (1, 0)]\nThe list which consists of numbers that are result of multiplication:  [8, -81]\nDeterminant:  -73\n-72.99999999999999\n"
          ]
        }
      ]
    },
    {
      "cell_type": "code",
      "execution_count": null,
      "metadata": {},
      "outputs": [],
      "source": []
    }
  ]
}