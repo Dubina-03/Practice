{
  "nbformat": 4,
  "nbformat_minor": 0,
  "metadata": {
    "colab": {
      "name": "Practice_10-11_KM_01_.ipynb",
      "provenance": [],
      "collapsed_sections": []
    },
    "kernelspec": {
      "name": "python3",
      "display_name": "Python 3.8.6 64-bit",
      "metadata": {
        "interpreter": {
          "hash": "04085e22bdeff8e3df61471aa05418e51f2f0978d6e9005e6dc5b37d6e89c6df"
        }
      }
    }
  },
  "cells": [
    {
      "cell_type": "markdown",
      "metadata": {
        "id": "FMqboNwO4rVs"
      },
      "source": [
        "# **Курс \"Програмування на мові Python\"**\n",
        "\n",
        "##### Викладачі:\n",
        "##### Борисенко Павло Борисович\n",
        "##### Щьоголєв Максим Олегович\n"
      ]
    },
    {
      "cell_type": "markdown",
      "metadata": {
        "id": "A2T6MigL5Z06"
      },
      "source": [
        "## **Практичні зайняття №10-11**\n",
        "\n",
        "### Тема: \"Ітератори та генератори. Декоратори\""
      ]
    },
    {
      "cell_type": "markdown",
      "metadata": {
        "id": "cfCdgK2zXm7e"
      },
      "source": [
        "### **Завдання 1 (2 бали)**\n",
        "\n",
        "Розрахуйте коефієнти розкладу біному Ньютона за допомогою генератора (https://uk.wikipedia.org/wiki/%D0%91%D1%96%D0%BD%D0%BE%D0%BC_%D0%9D%D1%8C%D1%8E%D1%82%D0%BE%D0%BD%D0%B0).\n",
        "\n",
        "1. Степінь многочлена користувач має вводити з клавіатури (невід'ємне ціле число).\n",
        "\n",
        "2. Програма має підраховувати біноміальні коефіцієнти для біномів усіх степенів, починаючи від 0 і закінчуючи тим, який ввів користувач.\n",
        "\n",
        "3. Коефіцієнти мають виводитись у вигляді трикутника Паскаля.\n",
        "\n",
        "Наприклад, якщо користувач введе число 5, програма має вивести результат:\n",
        "\n",
        "1\n",
        "\n",
        "1 1\n",
        "\n",
        "1 2 1\n",
        "\n",
        "1 3 3 1\n",
        "\n",
        "1 4 6 4 1\n",
        "\n",
        "1 5 10 10 5 1\n"
      ]
    },
    {
      "cell_type": "code",
      "metadata": {
        "id": "Bku8v9CjE_Qc"
      },
      "source": [
        "from functools import reduce\n",
        "\n",
        "\n",
        "def check_n():\n",
        "    n=input(\"Enter the degree of polynomial: \")\n",
        "    try:\n",
        "        f=int(n)\n",
        "        if 0>int(n):\n",
        "            print('Your data is incorrect')\n",
        "            n=check_n()\n",
        "    except:\n",
        "        print('Your data is incorrect')\n",
        "        n=check_n()\n",
        "    return int(n)\n",
        "\n",
        "n=n=check_n()\n",
        "for x in range(0, n+1):\n",
        "    end=[]\n",
        "    if x!=0:\n",
        "        l_all=[i for i in range(1, x+1)]\n",
        "        l=[i for i in range(1, x)]\n",
        "        n_fac=reduce(lambda total, value: total*value, l_all)\n",
        "        n_facs=map(lambda el: reduce(lambda total, value: total*value, l[:l.index(el)+1]), l)\n",
        "        n_k_facs=map(lambda el: reduce(lambda total, value: total*value, l[:l.index(x-el)+1]), l)\n",
        "    for d in range(x+1):\n",
        "        if d==0 and d==x:\n",
        "            end.append(1)\n",
        "        elif d==0:\n",
        "            end.append(1)\n",
        "        elif d!=0 and d!=x:\n",
        "            z=n_fac/(next(n_facs)*next(n_k_facs))\n",
        "            end.append(int(z))\n",
        "        elif d==x:\n",
        "            end.append(1)\n",
        "    print(*end)"
      ],
      "execution_count": null,
      "outputs": []
    },
    {
      "cell_type": "markdown",
      "metadata": {
        "id": "oqXwIz3iuPRe"
      },
      "source": [
        "### **Завдання 2 (4 бали)**\n",
        "\n",
        "Більшість друкованих книг (особливо це стосується книг у твердій палітурці) складаються із зошитів. Припустимо, що в друкарні текст друкується на листах паперу удвічі більших за звичайний книжковий формат. Потім ці листи складаються вдвічі, з них формуються зошити, які потім зшиваються у блок. Зшиті зошити зазвичай складаються з 8, 12 або 16 листів (відповідно 16, 24 або 32 сторінок) кожен.\n",
        "\n",
        "Розглянемо конкретний приклад. \n",
        "\n",
        "Припустимо, що кожен зшитий зошит нашої книги складається з 8 листів (16 сторінок). Якщо уявити великі листи, з яких потім складаються зошити, то на кожному таком листі буде по 4 сторінки книги. У нашій книзі таких великих листів буде 4. Розглянемо перший лист. З одного боку на ньому будуть надруковані сторінки 16 та 1, з іншого - 2 та 15. На другому листі з одного боку будуть надруковані сторінки 14 та 3, з іншого - 4 та 13.\n",
        "\n",
        "**Написати програму, яка визначатиме послідовність сторінок, що будуть надруковані на кожному великому листі.**\n",
        "\n",
        "1. Користувач має вводити з клавіатури три значення: кількість сторінок у книзі (не більше 1280), кількість сторінок у кожному зошиті цієї книги (потрібно буде обрати один з трьох варіантів: 16, 24 або 32) та параметр 0 або 1 (пояснення у п. 5).\n",
        "\n",
        "2. Зверніть увагу на те, що загальна кількість сторінок у книзі має бути кратною кількості сторінок у зошиті. Якщо користувач введе число, що не задовольняє цій умові, програма повинна припинити роботу або запропонувати користувачеві ввесте інше значення. Зауважте також, що 1280 не ділиться на 24.\n",
        "\n",
        "3. Зверніть увагу на те, що на великих листах поворот аркуша відбувається за коротким краєм. Отже, якщо з одного боку аркуша надруковано сторінки 16 та 1, то з іншого 2 та 15 (а не 15, 2), якщо дивитись зліва направо.\n",
        "\n",
        "4. Функція, яка визначатиме послідовність книжкових сторінок, має виводити на екран рядок за рядком номери сторінок кожного зошита, а також кількість зошитів у книзі.\n",
        "\n",
        "5. Створіть функцію-декоратор, яка прийматиме на вхід параметр 0 або 1, конвертований у False або True відповідно, та навісьте його на попередню функцію. Якщо параметр дорівнює False, додаткові функції декоратора не повинні виконуватись, тобто має виконатись лише функція з п. 4. Декоратор повинен створювати список усіх сторінок у потрібній послідовності, причому номери сторінок кожного зошита мають зберігатись в окремому вкладеному списку. Для 16-сторінкового зошита список повинен мати вигляд:\n",
        "\n",
        "`[[16, 1, 2, 15, 14, 3, 4, 13, ..., 10, 7, 8, 9], [32, 17, 18, 31, ...], ... ]`\n",
        "\n",
        "**Бонусне завдання (за бажанням)**\n",
        "\n",
        "6. Замість функції з п. 4 створіть генератор, який буде визначати послідовність книжкових сторінок для кожного зошита. Ці рядки можна потім вивести або у циклі, або за допомогою функції next(). Функція-декоратор має працювати з цим генератором так само, як і зі звичайною функцією."
      ]
    },
    {
      "cell_type": "code",
      "metadata": {
        "id": "yiRr2CqMWxLA"
      },
      "source": [
        "def list_func(func):\n",
        "    def inner(true_false):\n",
        "        c=func()\n",
        "        l=[]\n",
        "        for i in c:\n",
        "            print('The notebook is:', *i)\n",
        "            l.append(i)\n",
        "        if true_false==True:\n",
        "            print(l)        \n",
        "    return inner(true_false)\n",
        "    \n",
        "\n",
        "def check_x_n():\n",
        "    n=input('Enter the count of pages: ')\n",
        "    x=input('Enter pages count in notebook: ')\n",
        "    try:\n",
        "        g=int(n)\n",
        "        d=int(x)\n",
        "        if int(n)%int(x)!=0 or int(n)>1280 or int(x) not in (16, 24, 32):\n",
        "           print('Your data is incorrect')\n",
        "           z=check_x_n()\n",
        "           return z \n",
        "    except:\n",
        "        print('Your data is incorrect')\n",
        "        z=check_x_n()\n",
        "        return z\n",
        "    return int(n), int(x)\n",
        "\n",
        "def check_true_false():\n",
        "    true_false=input('Enter 0 or 1: ')\n",
        "    try:\n",
        "        z=int(true_false)\n",
        "        if int(true_false)!=1 and int(true_false)!=0:\n",
        "            print('Your data is incorrect')\n",
        "            true_false=check_true_false()\n",
        "            return true_false\n",
        "    except:\n",
        "        print('Your data is incorrect')\n",
        "        true_false=check_true_false()\n",
        "        return true_false\n",
        "    if true_false=='1':\n",
        "        return True\n",
        "    else:\n",
        "        return False\n",
        "\n",
        "checks = check_x_n()\n",
        "n=checks[0]\n",
        "x=checks[1]\n",
        "true_false=check_true_false()\n",
        "\n",
        "@list_func\n",
        "def function_false():\n",
        "    z=0\n",
        "    d={}\n",
        "    l=[i for i in range(1, n+1)]\n",
        "    for i in l:\n",
        "        if i%x==0:\n",
        "            d[(i/x)]=l[z:i]\n",
        "            z+=x\n",
        "    print('The count of notebooks is', len(d))\n",
        "    s=[]\n",
        "    for list_st in d.values():\n",
        "        notebook=[]\n",
        "        for paper in range(1, (int(x/4)+1)):\n",
        "            notebook.append(list_st[-1])\n",
        "            notebook.append(list_st[0])\n",
        "            del list_st[-1], list_st[0]\n",
        "            notebook.append(list_st[0])\n",
        "            notebook.append(list_st[-1])\n",
        "            del list_st[-1], list_st[0]\n",
        "        yield notebook\n"
      ],
      "execution_count": 127,
      "outputs": [
        {
          "output_type": "stream",
          "name": "stdout",
          "text": [
            "The count of notebooks is 2\nThe notebook is: 16 1 2 15 14 3 4 13 12 5 6 11 10 7 8 9\nThe notebook is: 32 17 18 31 30 19 20 29 28 21 22 27 26 23 24 25\n[[16, 1, 2, 15, 14, 3, 4, 13, 12, 5, 6, 11, 10, 7, 8, 9], [32, 17, 18, 31, 30, 19, 20, 29, 28, 21, 22, 27, 26, 23, 24, 25]]\n"
          ]
        }
      ]
    },
    {
      "cell_type": "code",
      "execution_count": null,
      "metadata": {},
      "outputs": [],
      "source": []
    }
  ]
}