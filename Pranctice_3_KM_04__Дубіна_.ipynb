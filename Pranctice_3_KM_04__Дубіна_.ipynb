{
  "nbformat": 4,
  "nbformat_minor": 0,
  "metadata": {
    "colab": {
      "name": "Pranctice_3_KM-01_<name>.ipynb",
      "provenance": [],
      "collapsed_sections": []
    },
    "kernelspec": {
      "name": "python3",
      "display_name": "Python 3"
    }
  },
  "cells": [
    {
      "cell_type": "markdown",
      "metadata": {
        "id": "1bRxWHr5e8kt"
      },
      "source": [
        "# **Курс \"Програмування на мові Python\"**\n",
        "\n",
        "##### Викладачі:\n",
        "##### Борисенко Павло Борисович\n",
        "##### Щьоголєв Максим Олегович"
      ]
    },
    {
      "cell_type": "markdown",
      "metadata": {
        "id": "buZUwUgFe-kx"
      },
      "source": [
        "## **Практичне зайняття №3**\n",
        "### Тема: \"Перші програми на Python. Введення та виведення даних. Інструкція if\""
      ]
    },
    {
      "cell_type": "markdown",
      "metadata": {
        "id": "PUkxEn8EfAUe"
      },
      "source": [
        "### **Завдання 1 (1,5 бали)**\n",
        "\n"
      ]
    },
    {
      "cell_type": "markdown",
      "metadata": {
        "id": "M7jjwxAvfKa2"
      },
      "source": [
        "**Написати програму введення та виведення даних про одержувача листа (посилки) за стандартами Укрпошти.**\n",
        "\n",
        "1. Усі запити на введення даних повинні супроводжуватись відповідними підказками-поясненнями (бажано англійською мовою).\n",
        "\n",
        "2. Дані мають виводитись так, як показано нижче (з урахуванням кількості рядків та послідовності даних у кожному з них).\n",
        "\n",
        "3. Дані, виділені жирним шрифтом, повинні вводитись із клавіатури. Всього має бути 9 окремих команд введення даних\n",
        "\n",
        "4. Назви змінних повинні бути інформативними та оформленими відповідно до правил іменування змінних\n",
        "\n",
        "5. Додати 2 коментарі, що вказують на блоки введення та виведення даних.\n",
        "\n",
        "***Формат виведення даних:***\n",
        "\n",
        "(1) **Ім'я** (2) **Прізвище**\n",
        "\n",
        "(3) **Номер телефону**\n",
        "\n",
        "Str. (4) **Назва вулиці** (5) **Номер будинку**, ap. (6) **Номер квартири**, (7) **Місто**\n",
        "\n",
        "(8) **Індекс**\n",
        "\n",
        "(9) **Країна**"
      ]
    },
    {
      "cell_type": "code",
      "metadata": {
        "id": "hEJG5C3_fJk9"
      },
      "source": [
        "#data input\n",
        "name=input('Enter your name:')\n",
        "surname=input('Enter your surname:')\n",
        "number=input('Enter your number:')\n",
        "street=input('Enter your street name:')\n",
        "house=input('Enter your house number:')\n",
        "apartment=input('Enter your apartment number:')\n",
        "city=input('Enter the name of the city:')\n",
        "index=input('Enter index:')\n",
        "country=input('Enter country name:')\n",
        "#data output\n",
        "print(name, surname)\n",
        "print(number)\n",
        "print(street+',', house+',', apartment+',', city)\n",
        "print(index)\n",
        "print(country)"
      ],
      "execution_count": 1,
      "outputs": []
    },
    {
      "cell_type": "markdown",
      "metadata": {
        "id": "WmnpKrmPf689"
      },
      "source": [
        "### **Завдання 2 (1,5 бали)**"
      ]
    },
    {
      "cell_type": "markdown",
      "metadata": {
        "id": "4n4p_pz7gFKM"
      },
      "source": [
        "Відповідно до чинної системи оцінювання в КПІ, рейтингові бали R студентів переводяться в оцінки за такою таблицею:\n",
        "\n",
        "R | Grade\n",
        "--- | ---\n",
        "95 - 100 | Excellent\n",
        "85 - 94 | Very good\n",
        "75 - 84 | Good\n",
        "65 - 74 | Satisfactory\n",
        "60 - 64 | Marginal\n",
        "0 - 59 | Unsatisfactory\n",
        "\n",
        "Напишіть програму, яка буде зчитувати рейтинговий бал R, введений користувачем, та виводити відповідну оцінку як частину змістовного повідомлення. Наприклад, якщо користувач вводить рейтинговий бал R 78, ваша програма повинна показати оцінку Good. Програма також повинна виводити повідомлення про помилку, якщо користувач введе від'ємне число або число, більше за 100."
      ]
    },
    {
      "cell_type": "code",
      "execution_count": null,
      "metadata": {},
      "outputs": [],
      "source": [
        "r=float(input('Enter your rating score:'))\n",
        "if 100>=r>=0:\n",
        "    if 100>=r>=95:\n",
        "        print('Excellent')\n",
        "    elif 94>=r>=85:\n",
        "        print('Very good')\n",
        "    elif 84>=r>=75:\n",
        "        print('Good')\n",
        "    elif 74>=r>=65:\n",
        "        print('Satisfactory')\n",
        "    elif 64>=r>=60:\n",
        "        print('Marginal')\n",
        "    elif 59>=r>=0:\n",
        "        print('Unsatisfactory')\n",
        "else:\n",
        "    print('Such score is impossible')\n",
        "    "
      ]
    },
    {
      "cell_type": "markdown",
      "metadata": {
        "id": "X8fC_GM_nMRi"
      },
      "source": [
        "### **Завдання 3 (бонусне, 1 бал)**"
      ]
    },
    {
      "cell_type": "markdown",
      "metadata": {
        "id": "b593txPwotgN"
      },
      "source": [
        "Часто говорять, що один календарний рік еквівалентний 7 рокам для собаки. Однак таке просте перетворення не враховує того, що собаки досягають повноліття приблизно у 2 роки. Тому деякі люди вважать, що краще рахувати кожен з перших двох календарних років як 10,5 років для собаки, а потім рахувати кожен наступний календарний рік як 4 роки для собаки.\n",
        "\n",
        "Напишіть програму, яка конвертує календарні роки у \"собачі\", як було показано в попередньому абзаці. Переконайтесь, що ваша програма працює правильно, конвертуючи перші два календарні роки та всі подальші. Ваша програма також повинна виводити повідомлення про помилку, якщо користувач введе від'ємне число."
      ]
    },
    {
      "cell_type": "code",
      "metadata": {
        "id": "PA_E_H0Zosu0"
      },
      "source": [
        "years=float(input('Enter the number of years:'))\n",
        "if 2>=years>=0:\n",
        "    x=years*10.5\n",
        "    print('Dog is', x, 'years old')\n",
        "elif years>2:\n",
        "    x=2*10.5 + (years-2)*4\n",
        "    print('Dog is', x, 'years old')\n",
        "else:\n",
        "    print('Such number is impossible')"
      ],
      "execution_count": null,
      "outputs": []
    },
    {
      "cell_type": "code",
      "execution_count": null,
      "metadata": {},
      "outputs": [],
      "source": []
    }
  ]
}