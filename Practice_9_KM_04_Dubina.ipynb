{
  "nbformat": 4,
  "nbformat_minor": 0,
  "metadata": {
    "colab": {
      "name": "Practice_7_KM-01_.ipynb",
      "provenance": [],
      "collapsed_sections": []
    },
    "kernelspec": {
      "name": "python3",
      "display_name": "Python 3.8.6 64-bit",
      "metadata": {
        "interpreter": {
          "hash": "04085e22bdeff8e3df61471aa05418e51f2f0978d6e9005e6dc5b37d6e89c6df"
        }
      }
    }
  },
  "cells": [
    {
      "cell_type": "markdown",
      "metadata": {
        "id": "FMqboNwO4rVs"
      },
      "source": [
        "# **Курс \"Програмування на мові Python\"**\n",
        "\n",
        "##### Викладачі:\n",
        "##### Борисенко Павло Борисович\n",
        "##### Щьоголєв Максим Олегович\n"
      ]
    },
    {
      "cell_type": "markdown",
      "metadata": {
        "id": "A2T6MigL5Z06"
      },
      "source": [
        "## **Практичне зайняття №9**\n",
        "\n",
        "### Тема: \"Лямбда-функції. Функції вищих порядків\""
      ]
    },
    {
      "cell_type": "markdown",
      "metadata": {
        "id": "cfCdgK2zXm7e"
      },
      "source": [
        "### **Завдання 1 (1 бал)**\n",
        "\n",
        "Керівництво будівельної компанії вирішило підняти заробітні плати всім своїм працівникам на 30%. В залежності від спеціалізації та стажу працівники мають різну заробітну плату. Для підготовки звіту необхідно розрахувати нову заробітну плату для працівників компанії, а також суму індексації.\n",
        "\n",
        "Написати програму, яка буде генерувати таблицю для цього звіту. Початкова заробітна плата працівників подана у списку salary_list (у тисячах гривень). \n",
        "\n",
        "1. Для підрахунку невідомих значень повинні використовуватись вбудовані функції вищих порядків.\n",
        "\n",
        "2. Зарплата після індексації та сума індексації для працівників різних категорій повинні зберігатись у двох окремих списках. Порядок значень у кожному з нових списків повинен відповідати порядку значень у списку salary_list.\n",
        "\n",
        "3. Кожне підраховане числове значення має бути округлене до сотих.\n",
        "\n",
        "4. Дані повинні виводитись у вигляді:\n",
        "\n",
        "**Salary table:**\n",
        "\n",
        "**7.3 9.49 2.19**\n",
        "\n",
        "**8.5 11.05 2.55**\n",
        "\n",
        "**...**\n",
        "\n",
        "salary_list = [[7.3, 8.5, 11, 12.7, 15.2, 21.12, 27.35]]"
      ]
    },
    {
      "cell_type": "code",
      "metadata": {
        "id": "ifNX2M7LXm7f"
      },
      "source": [
        "salary_list = [7.3, 8.5, 11, 12.7, 15.2, 21.12, 27.35]\n",
        "#create a list of indexations\n",
        "procs = list(map(lambda sal: round(sal*(0.3), 2), salary_list))\n",
        "#create a list of new salaries\n",
        "sum_sal_proc =  list(map(lambda sal, proc: round((sal + proc), 2), salary_list, procs))\n",
        "print(' Salary table:')\n",
        "table=[print('\\n', salary_list[i], sum_sal_proc[i], procs[i]) for i in range(len(salary_list))]"
      ],
      "execution_count": 17,
      "outputs": [
        {
          "output_type": "stream",
          "name": "stdout",
          "text": [
            " Salary table:\n\n 7.3 9.49 2.19\n\n 8.5 11.05 2.55\n\n 11 14.3 3.3\n\n 12.7 16.51 3.81\n\n 15.2 19.76 4.56\n\n 21.12 27.46 6.34\n\n 27.35 35.56 8.21\n"
          ]
        }
      ]
    },
    {
      "source": [
        "### **Завдання 2 (2 бали)**\n",
        "\n",
        "Зазвичай рік має 365 днів. Однак у високосні роки додається ще один день - 29 лютого. Правила визначення високосного року такі:\n",
        "\n",
        "- Будь-який рік, що ділиться на 400 - високосний.\n",
        "\n",
        "- З тих років, що залишились, будь-який рік, що ділиться на 100 - **не** високосний.\n",
        "\n",
        "- З тих років, що залишились, будь-який рік, що ділиться на 4 - високосний.\n",
        "\n",
        "- Усі інші роки, що залишились - **не** високосні.\n",
        "\n",
        "1) Створіть функцію, в якій за допомогою вбудованих функцій вищих порядків будуть визначатися високосні роки серед перелічених років у списку years. Створена функція має повертати список високосних років.\n",
        "\n",
        "2) Створіть функцію вищих порядків, яка прийматиме на вхід попередню функцію та визначатиме кількість днів у місяці. Також функція повинна приймати на вхід ще 2 параметри: ціле число від 1 до 12 (місяць) та рік, як ціле чотирицифрове число. Ці значення корисувач має вводити з клавіатури. Перевірку введених даних слід виконувати поза межами функцій."
      ],
      "cell_type": "markdown",
      "metadata": {}
    },
    {
      "cell_type": "code",
      "execution_count": 62,
      "metadata": {},
      "outputs": [
        {
          "output_type": "stream",
          "name": "stdout",
          "text": [
            "Enter the month (it can be numbers from 1 to 12)\n",
            "Enter the year (it can be numbers from 1900 to 2020)\n",
            "Your year is a leap year\n",
            "Number of days in 2 month 2016 is 29\n",
            "The list of leap years: [1904, 1908, 1912, 1916, 1920, 1924, 1928, 1932, 1936, 1940, 1944, 1948, 1952, 1956, 1960, 1964, 1968, 1972, 1976, 1980, 1984, 1988, 1992, 1996, 2000, 2004, 2008, 2012, 2016, 2020]\n"
          ]
        }
      ],
      "source": [
        "import numpy as np\n",
        "\n",
        "years = list(np.arange(1900, 2020+1, 1))\n",
        "\n",
        "def leap_years(years):\n",
        "    #retur a list of leap years\n",
        "    div400 = list(filter(lambda year: year % 400 == 0, years))\n",
        "    x = list(filter(lambda year: year % 400 != 0, years))\n",
        "    div100 = list(filter(lambda year: int(year) % 100 == 0, x))\n",
        "    x = list(filter(lambda year: year % 100 != 0, x))\n",
        "    div4 = list(filter(lambda year: int(year) % 4 == 0, x))\n",
        "    return list(set(div4 + div400))\n",
        "\n",
        "def days(leap_years, month, year):\n",
        "    #return the number which is number of days in certain month and year\n",
        "    count={1:31, 2:28, 3:31, 4:30, 5:31, 6:30, 7:31, 8:31, 9:30, 10:31, 11:30, 12:31}\n",
        "    leap_year=leap_years(years)\n",
        "    if year in leap_year:\n",
        "        count[2]+=1\n",
        "    return count[month]\n",
        "\n",
        "def check(a, b):\n",
        "    #checking for correct input\n",
        "    num=input()\n",
        "    try:\n",
        "        z=int(num)\n",
        "        if int(num)>b or a>int(num):\n",
        "            print('Please enter another value:')\n",
        "            num=check(a, b)\n",
        "    except:\n",
        "        print('Please enter another value:')\n",
        "        num=check(a, b)\n",
        "    return int(num)\n",
        "\n",
        "print('Enter the month (it can be numbers from 1 to 12)')\n",
        "month = check(1, 12)\n",
        "print('Enter the year (it can be numbers from 1900 to 2020)')\n",
        "year = check(1900, 2020)\n",
        "#output of results\n",
        "yes_not = print('Your year is a leap year') if year in leap_years(years) else print('Your year is not a leap year')\n",
        "print('Number of days in', month, 'month', year, 'is', days(leap_years, month, year))\n",
        "print('The list of leap years:', sorted(leap_years(years)))"
      ]
    },
    {
      "cell_type": "code",
      "execution_count": null,
      "metadata": {},
      "outputs": [],
      "source": []
    }
  ]
}